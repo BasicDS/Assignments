{
 "cells": [
  {
   "cell_type": "code",
   "execution_count": 16,
   "id": "73ce31df-5230-40a5-a22a-81c4d623dbd4",
   "metadata": {},
   "outputs": [],
   "source": [
    "# Question 1\n",
    "# While statement is usually used when we know the termination condition.\n",
    "# For loop is generally used when we know the number of steps/iterations."
   ]
  },
  {
   "cell_type": "code",
   "execution_count": 5,
   "id": "5ba90886-f716-489a-97b2-5d8addeb5586",
   "metadata": {},
   "outputs": [
    {
     "name": "stdout",
     "output_type": "stream",
     "text": [
      "55\n"
     ]
    }
   ],
   "source": [
    "#Question 2.1\n",
    "sum=0\n",
    "for i in range(11):\n",
    "    sum=sum+i\n",
    "print(sum)"
   ]
  },
  {
   "cell_type": "code",
   "execution_count": 7,
   "id": "1f441fc1-9c77-402d-993d-86ca7a3da302",
   "metadata": {},
   "outputs": [
    {
     "name": "stdout",
     "output_type": "stream",
     "text": [
      "55\n"
     ]
    }
   ],
   "source": [
    "#Question 2.2\n",
    "sum=0\n",
    "i=1\n",
    "while i<=10:\n",
    "    sum=sum+i\n",
    "    i=i+1\n",
    "print(sum)"
   ]
  },
  {
   "cell_type": "code",
   "execution_count": 15,
   "id": "cd02cb94-ad0a-40e7-bc45-06178f9b1e24",
   "metadata": {},
   "outputs": [
    {
     "name": "stdin",
     "output_type": "stream",
     "text": [
      " 400\n"
     ]
    },
    {
     "name": "stdout",
     "output_type": "stream",
     "text": [
      "4050.0\n"
     ]
    }
   ],
   "source": [
    "#Question 3\n",
    "units=int(input())\n",
    "ans=0\n",
    "if units>300:\n",
    "        ans=ans+(units-300)*20\n",
    "        units=300\n",
    "if units>200 and units<=300:\n",
    "        ans=ans+(units-200)*10\n",
    "        units=200\n",
    "if units<=200 and units>100:\n",
    "        ans=ans+(units-100)*6\n",
    "        units=100\n",
    "if units<=100:\n",
    "        ans=ans+(units)*4.5\n",
    "print(ans)"
   ]
  },
  {
   "cell_type": "code",
   "execution_count": null,
   "id": "202dc18f-881e-46a2-be4b-dc471bdba205",
   "metadata": {},
   "outputs": [],
   "source": [
    "#Question 4\n",
    "x=[]\n",
    "for i in range(1,101):\n",
    "    x.append(i)\n",
    "ans=[]\n",
    "i=0\n",
    "while i<100:\n",
    "    t=x[i]**3\n",
    "    if t%4==0:\n",
    "        ans.append(t)\n",
    "print(ans)"
   ]
  },
  {
   "cell_type": "code",
   "execution_count": null,
   "id": "166196cc-645d-4e9a-b7fc-1c57b31f0f32",
   "metadata": {},
   "outputs": [],
   "source": [
    "#Question 5\n",
    "string = \"I want to become a data scientist\"\n",
    "ans=0\n",
    "for i in range(len(string)):\n",
    "    if string[i] in [a,e,i,o,u,A,E,I,O,U]:\n",
    "        ans=ans+\n"
   ]
  }
 ],
 "metadata": {
  "kernelspec": {
   "display_name": "Python 3 (ipykernel)",
   "language": "python",
   "name": "python3"
  },
  "language_info": {
   "codemirror_mode": {
    "name": "ipython",
    "version": 3
   },
   "file_extension": ".py",
   "mimetype": "text/x-python",
   "name": "python",
   "nbconvert_exporter": "python",
   "pygments_lexer": "ipython3",
   "version": "3.10.6"
  }
 },
 "nbformat": 4,
 "nbformat_minor": 5
}
