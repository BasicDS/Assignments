{
 "cells": [
  {
   "cell_type": "code",
   "execution_count": null,
   "id": "7bc974ee-f1d7-47d0-86a0-37859cf6544f",
   "metadata": {},
   "outputs": [],
   "source": [
    "Guido van Rossum\n",
    "Dynamic\n",
    "yes\n",
    ".py/.pynb\n",
    "interpreted\n",
    "ex: print('Hello')\n",
    "#\n",
    "sys.version()\n",
    "lambda\n",
    "pip Install Packages\n",
    ".isupper(),.islower(),len(),range()\n",
    "79\n",
    "easy to use\n",
    "Python uses the dynamic memory allocation which is managed by the Heap data structure.\n",
    "pip install python\n",
    "yes"
   ]
  }
 ],
 "metadata": {
  "kernelspec": {
   "display_name": "Python 3 (ipykernel)",
   "language": "python",
   "name": "python3"
  },
  "language_info": {
   "codemirror_mode": {
    "name": "ipython",
    "version": 3
   },
   "file_extension": ".py",
   "mimetype": "text/x-python",
   "name": "python",
   "nbconvert_exporter": "python",
   "pygments_lexer": "ipython3",
   "version": "3.10.8"
  }
 },
 "nbformat": 4,
 "nbformat_minor": 5
}
